{
 "cells": [
  {
   "cell_type": "code",
   "execution_count": 6,
   "metadata": {},
   "outputs": [],
   "source": [
    "import os\n",
    "import random\n",
    "\n",
    "\"\"\"\n",
    "    This is a script to generate files of varying sizes, with random data in them\n",
    "    Meant for performance testing purposes, we do not care about the contents of the files\n",
    "\n",
    "    This script will generate `n` files, each of varying sizes\n",
    "    Currently, it starts at a size of  `1 KB`, and goes upto `n KB`\n",
    "    However, you're free to configure it however you want.\n",
    "\"\"\"\n",
    "\n",
    "def main():\n",
    "\n",
    "    num_of_files = 15\n",
    "    for file_size in range(1, num_of_files + 1):\n",
    "        \n",
    "        filename = f\"perftest_{file_size}KB.txt\"\n",
    "        file_path = os.path.join(\"./\", filename)\n",
    "\n",
    "        with open(file_path, \"w\") as file:\n",
    "            data = ''.join(\n",
    "                random.choices(\n",
    "                    'abcdefghijklmnopqrstuvwxyzABCDEFGHIJKLMNOPQRSTUVWXYZ0123456789',\n",
    "                    k=file_size * 1024\n",
    "                    )\n",
    "                )\n",
    "\n",
    "            file.write(data)\n",
    "\n",
    "    return\n",
    "\n",
    "\n",
    "if __name__ == '__main__':\n",
    "    main()"
   ]
  }
 ],
 "metadata": {
  "kernelspec": {
   "display_name": "Python 3",
   "language": "python",
   "name": "python3"
  },
  "language_info": {
   "codemirror_mode": {
    "name": "ipython",
    "version": 3
   },
   "file_extension": ".py",
   "mimetype": "text/x-python",
   "name": "python",
   "nbconvert_exporter": "python",
   "pygments_lexer": "ipython3",
   "version": "3.10.12"
  }
 },
 "nbformat": 4,
 "nbformat_minor": 2
}
